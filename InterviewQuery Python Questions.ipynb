{
 "cells": [
  {
   "cell_type": "markdown",
   "metadata": {},
   "source": [
    "# Acquisition Threshold\n",
    "\n",
    "This question was asked by: Capital One\n",
    "\n",
    "Capital One has two levels of customer acquisition strategies for customers that are opening credit cards.\n",
    "\n",
    "For high spending customers, Capital One will give clients a one time bonus of 800 dollars. For everyone else, they give a 100 dollar bonus.\n",
    "\n",
    "Write a function in Python that takes a list of client spends as floats and figures out the threshold to divide the high spending vs low spending customers."
   ]
  },
  {
   "cell_type": "code",
   "execution_count": 13,
   "metadata": {},
   "outputs": [],
   "source": [
    "test = [23.45, 456.7, 6787.6, 654.67, 90987.432, 45546, 34523]"
   ]
  },
  {
   "cell_type": "code",
   "execution_count": 25,
   "metadata": {},
   "outputs": [],
   "source": [
    "import math\n",
    "def acquisitionThreshold(clientspends, percentile):\n",
    "    clientspends.sort()\n",
    "    return clientspends[math.floor(len(test) * percentile)]"
   ]
  },
  {
   "cell_type": "code",
   "execution_count": 26,
   "metadata": {},
   "outputs": [
    {
     "data": {
      "text/plain": [
       "34523"
      ]
     },
     "execution_count": 26,
     "metadata": {},
     "output_type": "execute_result"
    }
   ],
   "source": [
    "acquisitionThreshold(test, 0.7)"
   ]
  },
  {
   "cell_type": "code",
   "execution_count": 27,
   "metadata": {},
   "outputs": [
    {
     "data": {
      "text/plain": [
       "45546"
      ]
     },
     "execution_count": 27,
     "metadata": {},
     "output_type": "execute_result"
    }
   ],
   "source": [
    "acquisitionThreshold(test, 0.8)"
   ]
  },
  {
   "cell_type": "code",
   "execution_count": 29,
   "metadata": {},
   "outputs": [],
   "source": [
    "# therefore, you can simplify this function by not importing math module...simply coerce to int and it will\n",
    "# round down in all cases\n",
    "def acquisitionThreshold(clientspends, percentile):\n",
    "    clientspends.sort()\n",
    "    return clientspends[int(len(test) * percentile)]"
   ]
  },
  {
   "cell_type": "code",
   "execution_count": 30,
   "metadata": {},
   "outputs": [
    {
     "data": {
      "text/plain": [
       "45546"
      ]
     },
     "execution_count": 30,
     "metadata": {},
     "output_type": "execute_result"
    }
   ],
   "source": [
    "acquisitionThreshold(test, 0.8)"
   ]
  },
  {
   "cell_type": "markdown",
   "metadata": {},
   "source": [
    "# 500 Cards\n",
    "\n",
    "This question was asked by: LinkedIn\n",
    "\n",
    "Imagine a deck of 500 cards numbered from 1 to 500. If all the cards are shuffled randomly and you are asked to pick three cards, one at a time, what's the probability of each subsequent card being larger than the previous drawn card?"
   ]
  },
  {
   "cell_type": "code",
   "execution_count": 66,
   "metadata": {},
   "outputs": [],
   "source": [
    "# I don't know how to answer this from a pure probability standpoint,\n",
    "# so going to right a function to back into the result...which seems to float around 16.6-16.8%\n",
    "\n",
    "import random \n",
    "\n",
    "def oneRound500Cards():\n",
    "    deck = list()\n",
    "    \n",
    "    for each in range(500):             #<-- establish our 500 card deck\n",
    "        deck.append(each + 1)\n",
    "    \n",
    "    draw1idx = random.randint(1,500)    #<-- pulls random card\n",
    "    draw1card = deck.pop(draw1idx - 1)  #<-- removes card, while also setting value\n",
    "\n",
    "    draw2idx = random.randint(1,499)    #<-- pulls random card, reducing total deck size to 499\n",
    "    draw2card = deck.pop(draw2idx - 1)  #<-- removes card, while also setting value\n",
    "\n",
    "    draw3idx = random.randint(1,498)    #<-- pulls random card, reducing total deck size to 499\n",
    "    draw3card = deck.pop(draw3idx - 1)  #<-- removes card, while also setting value\n",
    "\n",
    "    #print(f'Card 1: {draw1card}, Card 2: {draw2card}, Card 3: {draw3card}')\n",
    "    \n",
    "    if draw1card < draw2card < draw3card: #<-- if each subsequent card is larger\n",
    "        return True                   \n",
    "    else: \n",
    "        return False"
   ]
  },
  {
   "cell_type": "code",
   "execution_count": 67,
   "metadata": {},
   "outputs": [],
   "source": [
    "def manyRounds500Cards(totalrounds):\n",
    "    successes = 0\n",
    "    for oneround in range(totalrounds):\n",
    "        if oneRound500Cards() is True:\n",
    "            successes += 1\n",
    "    return successes / totalrounds"
   ]
  },
  {
   "cell_type": "code",
   "execution_count": 68,
   "metadata": {},
   "outputs": [
    {
     "data": {
      "text/plain": [
       "0.16807"
      ]
     },
     "execution_count": 68,
     "metadata": {},
     "output_type": "execute_result"
    }
   ],
   "source": [
    "manyRounds500Cards(500000)"
   ]
  },
  {
   "cell_type": "code",
   "execution_count": 69,
   "metadata": {},
   "outputs": [
    {
     "data": {
      "text/plain": [
       "0.167036"
      ]
     },
     "execution_count": 69,
     "metadata": {},
     "output_type": "execute_result"
    }
   ],
   "source": [
    "manyRounds500Cards(500000)"
   ]
  },
  {
   "cell_type": "code",
   "execution_count": 70,
   "metadata": {},
   "outputs": [
    {
     "data": {
      "text/plain": [
       "0.166784"
      ]
     },
     "execution_count": 70,
     "metadata": {},
     "output_type": "execute_result"
    }
   ],
   "source": [
    "manyRounds500Cards(500000)"
   ]
  },
  {
   "cell_type": "code",
   "execution_count": null,
   "metadata": {},
   "outputs": [],
   "source": [
    "# research this as the answer\n",
    "\n",
    "# (500P3 * 1/3!) / 500P3"
   ]
  },
  {
   "cell_type": "markdown",
   "metadata": {},
   "source": [
    "# Data Stream Median"
   ]
  },
  {
   "cell_type": "markdown",
   "metadata": {},
   "source": [
    "This question was asked by: Amobee\n",
    "\n",
    "Calculate the median from a stream of integers. \n",
    "\n",
    "The median is the middle value in an ordered integer list. If the size of the list is even, there is no middle value. So the median is the mean of the two middle values."
   ]
  },
  {
   "cell_type": "code",
   "execution_count": 45,
   "metadata": {},
   "outputs": [],
   "source": [
    "stream_even = [1,2,3,4,5,6,7,8,9,10]\n",
    "stream_odd = [1,2,3,4,5,6,7,8,9,10,11,12,13,14,15,16,17]"
   ]
  },
  {
   "cell_type": "code",
   "execution_count": 50,
   "metadata": {},
   "outputs": [],
   "source": [
    "def get_median(in_stream):\n",
    "    in_stream = sorted(in_stream)\n",
    "    if len(in_stream) % 2 == 0:     # even length\n",
    "        return ((in_stream[int(len(in_stream) / 2 - 1)] + in_stream[int(len(in_stream) / 2)])) / 2\n",
    "    else:                        # odd length\n",
    "        return in_stream[int(len(in_stream) / 2)] "
   ]
  },
  {
   "cell_type": "code",
   "execution_count": 51,
   "metadata": {},
   "outputs": [
    {
     "data": {
      "text/plain": [
       "5.5"
      ]
     },
     "execution_count": 51,
     "metadata": {},
     "output_type": "execute_result"
    }
   ],
   "source": [
    "get_median(stream_even)"
   ]
  },
  {
   "cell_type": "code",
   "execution_count": 52,
   "metadata": {},
   "outputs": [
    {
     "data": {
      "text/plain": [
       "9"
      ]
     },
     "execution_count": 52,
     "metadata": {},
     "output_type": "execute_result"
    }
   ],
   "source": [
    "get_median(stream_odd)"
   ]
  }
 ],
 "metadata": {
  "kernelspec": {
   "display_name": "Python 3",
   "language": "python",
   "name": "python3"
  },
  "language_info": {
   "codemirror_mode": {
    "name": "ipython",
    "version": 3
   },
   "file_extension": ".py",
   "mimetype": "text/x-python",
   "name": "python",
   "nbconvert_exporter": "python",
   "pygments_lexer": "ipython3",
   "version": "3.6.5"
  }
 },
 "nbformat": 4,
 "nbformat_minor": 2
}
